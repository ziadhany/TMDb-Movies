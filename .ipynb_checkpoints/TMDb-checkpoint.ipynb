{
 "cells": [
  {
   "cell_type": "markdown",
   "metadata": {},
   "source": [
    "# Project:     The Movie Database (TMDb)\n",
    "-------\n",
    "![](https://images.pexels.com/photos/1117132/pexels-photo-1117132.jpeg?crop=entropy&cs=srgb&dl=pexels-martin-lopez-1117132.jpg&fit=crop&fm=jpg&h=426&w=640)\n",
    "\n",
    "## Table of Contents\n",
    "<ul>\n",
    "<li><a href=\"#intro\">Introduction</a></li>\n",
    "<li><a href=\"#wrangling\">Data Wrangling</a></li>\n",
    "<li><a href=\"#eda\">Exploratory Data Analysis</a></li>\n",
    "<li><a href=\"#conclusions\">Conclusions</a></li>\n",
    "</ul>"
   ]
  },
  {
   "cell_type": "markdown",
   "metadata": {},
   "source": [
    "## Introduction\n",
    "<a id='intro'></a>"
   ]
  },
  {
   "cell_type": "markdown",
   "metadata": {},
   "source": [
    "#### import all packages"
   ]
  },
  {
   "cell_type": "code",
   "execution_count": 38,
   "metadata": {},
   "outputs": [],
   "source": [
    "import pandas as pd\n",
    "import numpy as np\n",
    "import matplotlib.pyplot as plt\n",
    "%matplotlib inline"
   ]
  },
  {
   "cell_type": "markdown",
   "metadata": {},
   "source": [
    "<a id='wrangling'></a>\n",
    "## Data Wrangling\n",
    "\n",
    "\n",
    "### General Properties"
   ]
  },
  {
   "cell_type": "code",
   "execution_count": 39,
   "metadata": {},
   "outputs": [
    {
     "data": {
      "text/html": [
       "<div>\n",
       "<style scoped>\n",
       "    .dataframe tbody tr th:only-of-type {\n",
       "        vertical-align: middle;\n",
       "    }\n",
       "\n",
       "    .dataframe tbody tr th {\n",
       "        vertical-align: top;\n",
       "    }\n",
       "\n",
       "    .dataframe thead th {\n",
       "        text-align: right;\n",
       "    }\n",
       "</style>\n",
       "<table border=\"1\" class=\"dataframe\">\n",
       "  <thead>\n",
       "    <tr style=\"text-align: right;\">\n",
       "      <th></th>\n",
       "      <th>id</th>\n",
       "      <th>imdb_id</th>\n",
       "      <th>popularity</th>\n",
       "      <th>budget</th>\n",
       "      <th>revenue</th>\n",
       "      <th>original_title</th>\n",
       "      <th>cast</th>\n",
       "      <th>homepage</th>\n",
       "      <th>director</th>\n",
       "      <th>tagline</th>\n",
       "      <th>...</th>\n",
       "      <th>overview</th>\n",
       "      <th>runtime</th>\n",
       "      <th>genres</th>\n",
       "      <th>production_companies</th>\n",
       "      <th>release_date</th>\n",
       "      <th>vote_count</th>\n",
       "      <th>vote_average</th>\n",
       "      <th>release_year</th>\n",
       "      <th>budget_adj</th>\n",
       "      <th>revenue_adj</th>\n",
       "    </tr>\n",
       "  </thead>\n",
       "  <tbody>\n",
       "    <tr>\n",
       "      <td>0</td>\n",
       "      <td>135397</td>\n",
       "      <td>tt0369610</td>\n",
       "      <td>32.985763</td>\n",
       "      <td>150000000</td>\n",
       "      <td>1513528810</td>\n",
       "      <td>Jurassic World</td>\n",
       "      <td>Chris Pratt|Bryce Dallas Howard|Irrfan Khan|Vi...</td>\n",
       "      <td>http://www.jurassicworld.com/</td>\n",
       "      <td>Colin Trevorrow</td>\n",
       "      <td>The park is open.</td>\n",
       "      <td>...</td>\n",
       "      <td>Twenty-two years after the events of Jurassic ...</td>\n",
       "      <td>124</td>\n",
       "      <td>Action|Adventure|Science Fiction|Thriller</td>\n",
       "      <td>Universal Studios|Amblin Entertainment|Legenda...</td>\n",
       "      <td>6/9/15</td>\n",
       "      <td>5562</td>\n",
       "      <td>6.5</td>\n",
       "      <td>2015</td>\n",
       "      <td>1.379999e+08</td>\n",
       "      <td>1.392446e+09</td>\n",
       "    </tr>\n",
       "    <tr>\n",
       "      <td>1</td>\n",
       "      <td>76341</td>\n",
       "      <td>tt1392190</td>\n",
       "      <td>28.419936</td>\n",
       "      <td>150000000</td>\n",
       "      <td>378436354</td>\n",
       "      <td>Mad Max: Fury Road</td>\n",
       "      <td>Tom Hardy|Charlize Theron|Hugh Keays-Byrne|Nic...</td>\n",
       "      <td>http://www.madmaxmovie.com/</td>\n",
       "      <td>George Miller</td>\n",
       "      <td>What a Lovely Day.</td>\n",
       "      <td>...</td>\n",
       "      <td>An apocalyptic story set in the furthest reach...</td>\n",
       "      <td>120</td>\n",
       "      <td>Action|Adventure|Science Fiction|Thriller</td>\n",
       "      <td>Village Roadshow Pictures|Kennedy Miller Produ...</td>\n",
       "      <td>5/13/15</td>\n",
       "      <td>6185</td>\n",
       "      <td>7.1</td>\n",
       "      <td>2015</td>\n",
       "      <td>1.379999e+08</td>\n",
       "      <td>3.481613e+08</td>\n",
       "    </tr>\n",
       "    <tr>\n",
       "      <td>2</td>\n",
       "      <td>262500</td>\n",
       "      <td>tt2908446</td>\n",
       "      <td>13.112507</td>\n",
       "      <td>110000000</td>\n",
       "      <td>295238201</td>\n",
       "      <td>Insurgent</td>\n",
       "      <td>Shailene Woodley|Theo James|Kate Winslet|Ansel...</td>\n",
       "      <td>http://www.thedivergentseries.movie/#insurgent</td>\n",
       "      <td>Robert Schwentke</td>\n",
       "      <td>One Choice Can Destroy You</td>\n",
       "      <td>...</td>\n",
       "      <td>Beatrice Prior must confront her inner demons ...</td>\n",
       "      <td>119</td>\n",
       "      <td>Adventure|Science Fiction|Thriller</td>\n",
       "      <td>Summit Entertainment|Mandeville Films|Red Wago...</td>\n",
       "      <td>3/18/15</td>\n",
       "      <td>2480</td>\n",
       "      <td>6.3</td>\n",
       "      <td>2015</td>\n",
       "      <td>1.012000e+08</td>\n",
       "      <td>2.716190e+08</td>\n",
       "    </tr>\n",
       "    <tr>\n",
       "      <td>3</td>\n",
       "      <td>140607</td>\n",
       "      <td>tt2488496</td>\n",
       "      <td>11.173104</td>\n",
       "      <td>200000000</td>\n",
       "      <td>2068178225</td>\n",
       "      <td>Star Wars: The Force Awakens</td>\n",
       "      <td>Harrison Ford|Mark Hamill|Carrie Fisher|Adam D...</td>\n",
       "      <td>http://www.starwars.com/films/star-wars-episod...</td>\n",
       "      <td>J.J. Abrams</td>\n",
       "      <td>Every generation has a story.</td>\n",
       "      <td>...</td>\n",
       "      <td>Thirty years after defeating the Galactic Empi...</td>\n",
       "      <td>136</td>\n",
       "      <td>Action|Adventure|Science Fiction|Fantasy</td>\n",
       "      <td>Lucasfilm|Truenorth Productions|Bad Robot</td>\n",
       "      <td>12/15/15</td>\n",
       "      <td>5292</td>\n",
       "      <td>7.5</td>\n",
       "      <td>2015</td>\n",
       "      <td>1.839999e+08</td>\n",
       "      <td>1.902723e+09</td>\n",
       "    </tr>\n",
       "    <tr>\n",
       "      <td>4</td>\n",
       "      <td>168259</td>\n",
       "      <td>tt2820852</td>\n",
       "      <td>9.335014</td>\n",
       "      <td>190000000</td>\n",
       "      <td>1506249360</td>\n",
       "      <td>Furious 7</td>\n",
       "      <td>Vin Diesel|Paul Walker|Jason Statham|Michelle ...</td>\n",
       "      <td>http://www.furious7.com/</td>\n",
       "      <td>James Wan</td>\n",
       "      <td>Vengeance Hits Home</td>\n",
       "      <td>...</td>\n",
       "      <td>Deckard Shaw seeks revenge against Dominic Tor...</td>\n",
       "      <td>137</td>\n",
       "      <td>Action|Crime|Thriller</td>\n",
       "      <td>Universal Pictures|Original Film|Media Rights ...</td>\n",
       "      <td>4/1/15</td>\n",
       "      <td>2947</td>\n",
       "      <td>7.3</td>\n",
       "      <td>2015</td>\n",
       "      <td>1.747999e+08</td>\n",
       "      <td>1.385749e+09</td>\n",
       "    </tr>\n",
       "  </tbody>\n",
       "</table>\n",
       "<p>5 rows × 21 columns</p>\n",
       "</div>"
      ],
      "text/plain": [
       "       id    imdb_id  popularity     budget     revenue  \\\n",
       "0  135397  tt0369610   32.985763  150000000  1513528810   \n",
       "1   76341  tt1392190   28.419936  150000000   378436354   \n",
       "2  262500  tt2908446   13.112507  110000000   295238201   \n",
       "3  140607  tt2488496   11.173104  200000000  2068178225   \n",
       "4  168259  tt2820852    9.335014  190000000  1506249360   \n",
       "\n",
       "                 original_title  \\\n",
       "0                Jurassic World   \n",
       "1            Mad Max: Fury Road   \n",
       "2                     Insurgent   \n",
       "3  Star Wars: The Force Awakens   \n",
       "4                     Furious 7   \n",
       "\n",
       "                                                cast  \\\n",
       "0  Chris Pratt|Bryce Dallas Howard|Irrfan Khan|Vi...   \n",
       "1  Tom Hardy|Charlize Theron|Hugh Keays-Byrne|Nic...   \n",
       "2  Shailene Woodley|Theo James|Kate Winslet|Ansel...   \n",
       "3  Harrison Ford|Mark Hamill|Carrie Fisher|Adam D...   \n",
       "4  Vin Diesel|Paul Walker|Jason Statham|Michelle ...   \n",
       "\n",
       "                                            homepage          director  \\\n",
       "0                      http://www.jurassicworld.com/   Colin Trevorrow   \n",
       "1                        http://www.madmaxmovie.com/     George Miller   \n",
       "2     http://www.thedivergentseries.movie/#insurgent  Robert Schwentke   \n",
       "3  http://www.starwars.com/films/star-wars-episod...       J.J. Abrams   \n",
       "4                           http://www.furious7.com/         James Wan   \n",
       "\n",
       "                         tagline  ...  \\\n",
       "0              The park is open.  ...   \n",
       "1             What a Lovely Day.  ...   \n",
       "2     One Choice Can Destroy You  ...   \n",
       "3  Every generation has a story.  ...   \n",
       "4            Vengeance Hits Home  ...   \n",
       "\n",
       "                                            overview runtime  \\\n",
       "0  Twenty-two years after the events of Jurassic ...     124   \n",
       "1  An apocalyptic story set in the furthest reach...     120   \n",
       "2  Beatrice Prior must confront her inner demons ...     119   \n",
       "3  Thirty years after defeating the Galactic Empi...     136   \n",
       "4  Deckard Shaw seeks revenge against Dominic Tor...     137   \n",
       "\n",
       "                                      genres  \\\n",
       "0  Action|Adventure|Science Fiction|Thriller   \n",
       "1  Action|Adventure|Science Fiction|Thriller   \n",
       "2         Adventure|Science Fiction|Thriller   \n",
       "3   Action|Adventure|Science Fiction|Fantasy   \n",
       "4                      Action|Crime|Thriller   \n",
       "\n",
       "                                production_companies release_date vote_count  \\\n",
       "0  Universal Studios|Amblin Entertainment|Legenda...       6/9/15       5562   \n",
       "1  Village Roadshow Pictures|Kennedy Miller Produ...      5/13/15       6185   \n",
       "2  Summit Entertainment|Mandeville Films|Red Wago...      3/18/15       2480   \n",
       "3          Lucasfilm|Truenorth Productions|Bad Robot     12/15/15       5292   \n",
       "4  Universal Pictures|Original Film|Media Rights ...       4/1/15       2947   \n",
       "\n",
       "   vote_average  release_year    budget_adj   revenue_adj  \n",
       "0           6.5          2015  1.379999e+08  1.392446e+09  \n",
       "1           7.1          2015  1.379999e+08  3.481613e+08  \n",
       "2           6.3          2015  1.012000e+08  2.716190e+08  \n",
       "3           7.5          2015  1.839999e+08  1.902723e+09  \n",
       "4           7.3          2015  1.747999e+08  1.385749e+09  \n",
       "\n",
       "[5 rows x 21 columns]"
      ]
     },
     "execution_count": 39,
     "metadata": {},
     "output_type": "execute_result"
    }
   ],
   "source": [
    "# Load your data and print out a few lines. Perform operations to inspect data\n",
    "#   types and look for instances of missing or possibly errant data.\n",
    "df = pd.read_csv('tmdb-movies.csv')\n",
    "df.head()"
   ]
  },
  {
   "cell_type": "code",
   "execution_count": 40,
   "metadata": {},
   "outputs": [
    {
     "name": "stdout",
     "output_type": "stream",
     "text": [
      "Number of :- rows = 10866 , columns = 21\n"
     ]
    }
   ],
   "source": [
    "datebase_shape = np.asarray(df.shape)\n",
    "print('Number of :- rows = {} , columns = {}'.format(datebase_shape[0],datebase_shape[1]))"
   ]
  },
  {
   "cell_type": "code",
   "execution_count": 41,
   "metadata": {},
   "outputs": [
    {
     "name": "stdout",
     "output_type": "stream",
     "text": [
      "<class 'pandas.core.frame.DataFrame'>\n",
      "RangeIndex: 10866 entries, 0 to 10865\n",
      "Data columns (total 21 columns):\n",
      "id                      10866 non-null int64\n",
      "imdb_id                 10856 non-null object\n",
      "popularity              10866 non-null float64\n",
      "budget                  10866 non-null int64\n",
      "revenue                 10866 non-null int64\n",
      "original_title          10866 non-null object\n",
      "cast                    10790 non-null object\n",
      "homepage                2936 non-null object\n",
      "director                10822 non-null object\n",
      "tagline                 8042 non-null object\n",
      "keywords                9373 non-null object\n",
      "overview                10862 non-null object\n",
      "runtime                 10866 non-null int64\n",
      "genres                  10843 non-null object\n",
      "production_companies    9836 non-null object\n",
      "release_date            10866 non-null object\n",
      "vote_count              10866 non-null int64\n",
      "vote_average            10866 non-null float64\n",
      "release_year            10866 non-null int64\n",
      "budget_adj              10866 non-null float64\n",
      "revenue_adj             10866 non-null float64\n",
      "dtypes: float64(4), int64(6), object(11)\n",
      "memory usage: 1.7+ MB\n"
     ]
    }
   ],
   "source": [
    "df.info() # some informstion about data"
   ]
  },
  {
   "cell_type": "code",
   "execution_count": 42,
   "metadata": {
    "scrolled": false
   },
   "outputs": [
    {
     "data": {
      "text/html": [
       "<div>\n",
       "<style scoped>\n",
       "    .dataframe tbody tr th:only-of-type {\n",
       "        vertical-align: middle;\n",
       "    }\n",
       "\n",
       "    .dataframe tbody tr th {\n",
       "        vertical-align: top;\n",
       "    }\n",
       "\n",
       "    .dataframe thead th {\n",
       "        text-align: right;\n",
       "    }\n",
       "</style>\n",
       "<table border=\"1\" class=\"dataframe\">\n",
       "  <thead>\n",
       "    <tr style=\"text-align: right;\">\n",
       "      <th></th>\n",
       "      <th>id</th>\n",
       "      <th>popularity</th>\n",
       "      <th>budget</th>\n",
       "      <th>revenue</th>\n",
       "      <th>runtime</th>\n",
       "      <th>vote_count</th>\n",
       "      <th>vote_average</th>\n",
       "      <th>release_year</th>\n",
       "      <th>budget_adj</th>\n",
       "      <th>revenue_adj</th>\n",
       "    </tr>\n",
       "  </thead>\n",
       "  <tbody>\n",
       "    <tr>\n",
       "      <td>count</td>\n",
       "      <td>10866.000000</td>\n",
       "      <td>10866.000000</td>\n",
       "      <td>1.086600e+04</td>\n",
       "      <td>1.086600e+04</td>\n",
       "      <td>10866.000000</td>\n",
       "      <td>10866.000000</td>\n",
       "      <td>10866.000000</td>\n",
       "      <td>10866.000000</td>\n",
       "      <td>1.086600e+04</td>\n",
       "      <td>1.086600e+04</td>\n",
       "    </tr>\n",
       "    <tr>\n",
       "      <td>mean</td>\n",
       "      <td>66064.177434</td>\n",
       "      <td>0.646441</td>\n",
       "      <td>1.462570e+07</td>\n",
       "      <td>3.982332e+07</td>\n",
       "      <td>102.070863</td>\n",
       "      <td>217.389748</td>\n",
       "      <td>5.974922</td>\n",
       "      <td>2001.322658</td>\n",
       "      <td>1.755104e+07</td>\n",
       "      <td>5.136436e+07</td>\n",
       "    </tr>\n",
       "    <tr>\n",
       "      <td>std</td>\n",
       "      <td>92130.136561</td>\n",
       "      <td>1.000185</td>\n",
       "      <td>3.091321e+07</td>\n",
       "      <td>1.170035e+08</td>\n",
       "      <td>31.381405</td>\n",
       "      <td>575.619058</td>\n",
       "      <td>0.935142</td>\n",
       "      <td>12.812941</td>\n",
       "      <td>3.430616e+07</td>\n",
       "      <td>1.446325e+08</td>\n",
       "    </tr>\n",
       "    <tr>\n",
       "      <td>min</td>\n",
       "      <td>5.000000</td>\n",
       "      <td>0.000065</td>\n",
       "      <td>0.000000e+00</td>\n",
       "      <td>0.000000e+00</td>\n",
       "      <td>0.000000</td>\n",
       "      <td>10.000000</td>\n",
       "      <td>1.500000</td>\n",
       "      <td>1960.000000</td>\n",
       "      <td>0.000000e+00</td>\n",
       "      <td>0.000000e+00</td>\n",
       "    </tr>\n",
       "    <tr>\n",
       "      <td>25%</td>\n",
       "      <td>10596.250000</td>\n",
       "      <td>0.207583</td>\n",
       "      <td>0.000000e+00</td>\n",
       "      <td>0.000000e+00</td>\n",
       "      <td>90.000000</td>\n",
       "      <td>17.000000</td>\n",
       "      <td>5.400000</td>\n",
       "      <td>1995.000000</td>\n",
       "      <td>0.000000e+00</td>\n",
       "      <td>0.000000e+00</td>\n",
       "    </tr>\n",
       "    <tr>\n",
       "      <td>50%</td>\n",
       "      <td>20669.000000</td>\n",
       "      <td>0.383856</td>\n",
       "      <td>0.000000e+00</td>\n",
       "      <td>0.000000e+00</td>\n",
       "      <td>99.000000</td>\n",
       "      <td>38.000000</td>\n",
       "      <td>6.000000</td>\n",
       "      <td>2006.000000</td>\n",
       "      <td>0.000000e+00</td>\n",
       "      <td>0.000000e+00</td>\n",
       "    </tr>\n",
       "    <tr>\n",
       "      <td>75%</td>\n",
       "      <td>75610.000000</td>\n",
       "      <td>0.713817</td>\n",
       "      <td>1.500000e+07</td>\n",
       "      <td>2.400000e+07</td>\n",
       "      <td>111.000000</td>\n",
       "      <td>145.750000</td>\n",
       "      <td>6.600000</td>\n",
       "      <td>2011.000000</td>\n",
       "      <td>2.085325e+07</td>\n",
       "      <td>3.369710e+07</td>\n",
       "    </tr>\n",
       "    <tr>\n",
       "      <td>max</td>\n",
       "      <td>417859.000000</td>\n",
       "      <td>32.985763</td>\n",
       "      <td>4.250000e+08</td>\n",
       "      <td>2.781506e+09</td>\n",
       "      <td>900.000000</td>\n",
       "      <td>9767.000000</td>\n",
       "      <td>9.200000</td>\n",
       "      <td>2015.000000</td>\n",
       "      <td>4.250000e+08</td>\n",
       "      <td>2.827124e+09</td>\n",
       "    </tr>\n",
       "  </tbody>\n",
       "</table>\n",
       "</div>"
      ],
      "text/plain": [
       "                  id    popularity        budget       revenue       runtime  \\\n",
       "count   10866.000000  10866.000000  1.086600e+04  1.086600e+04  10866.000000   \n",
       "mean    66064.177434      0.646441  1.462570e+07  3.982332e+07    102.070863   \n",
       "std     92130.136561      1.000185  3.091321e+07  1.170035e+08     31.381405   \n",
       "min         5.000000      0.000065  0.000000e+00  0.000000e+00      0.000000   \n",
       "25%     10596.250000      0.207583  0.000000e+00  0.000000e+00     90.000000   \n",
       "50%     20669.000000      0.383856  0.000000e+00  0.000000e+00     99.000000   \n",
       "75%     75610.000000      0.713817  1.500000e+07  2.400000e+07    111.000000   \n",
       "max    417859.000000     32.985763  4.250000e+08  2.781506e+09    900.000000   \n",
       "\n",
       "         vote_count  vote_average  release_year    budget_adj   revenue_adj  \n",
       "count  10866.000000  10866.000000  10866.000000  1.086600e+04  1.086600e+04  \n",
       "mean     217.389748      5.974922   2001.322658  1.755104e+07  5.136436e+07  \n",
       "std      575.619058      0.935142     12.812941  3.430616e+07  1.446325e+08  \n",
       "min       10.000000      1.500000   1960.000000  0.000000e+00  0.000000e+00  \n",
       "25%       17.000000      5.400000   1995.000000  0.000000e+00  0.000000e+00  \n",
       "50%       38.000000      6.000000   2006.000000  0.000000e+00  0.000000e+00  \n",
       "75%      145.750000      6.600000   2011.000000  2.085325e+07  3.369710e+07  \n",
       "max     9767.000000      9.200000   2015.000000  4.250000e+08  2.827124e+09  "
      ]
     },
     "execution_count": 42,
     "metadata": {},
     "output_type": "execute_result"
    }
   ],
   "source": [
    "df.describe()"
   ]
  },
  {
   "cell_type": "markdown",
   "metadata": {},
   "source": [
    "#### Delete some unused columns"
   ]
  },
  {
   "cell_type": "code",
   "execution_count": 43,
   "metadata": {},
   "outputs": [],
   "source": [
    "df.drop(columns=['id','imdb_id','homepage','overview','tagline','cast','keywords','production_companies'], inplace=True)"
   ]
  },
  {
   "cell_type": "markdown",
   "metadata": {},
   "source": [
    "##### Get a Number of duplicate rows  and Remove  it ."
   ]
  },
  {
   "cell_type": "code",
   "execution_count": 44,
   "metadata": {},
   "outputs": [
    {
     "data": {
      "text/plain": [
       "1"
      ]
     },
     "execution_count": 44,
     "metadata": {},
     "output_type": "execute_result"
    }
   ],
   "source": [
    "df.duplicated().sum()"
   ]
  },
  {
   "cell_type": "code",
   "execution_count": 45,
   "metadata": {},
   "outputs": [],
   "source": [
    "df.drop_duplicates(inplace=True)"
   ]
  },
  {
   "cell_type": "markdown",
   "metadata": {},
   "source": [
    "#### Get a number of null value  and Remove it ."
   ]
  },
  {
   "cell_type": "code",
   "execution_count": 46,
   "metadata": {},
   "outputs": [
    {
     "data": {
      "text/plain": [
       "popularity         0\n",
       "budget             0\n",
       "revenue            0\n",
       "original_title     0\n",
       "director          44\n",
       "runtime            0\n",
       "genres            23\n",
       "release_date       0\n",
       "vote_count         0\n",
       "vote_average       0\n",
       "release_year       0\n",
       "budget_adj         0\n",
       "revenue_adj        0\n",
       "dtype: int64"
      ]
     },
     "execution_count": 46,
     "metadata": {},
     "output_type": "execute_result"
    }
   ],
   "source": [
    "df.isnull().sum()"
   ]
  },
  {
   "cell_type": "code",
   "execution_count": 47,
   "metadata": {},
   "outputs": [],
   "source": [
    "df.dropna(subset=['genres','director'], inplace=True) # drop all null value in ( genres , director )"
   ]
  },
  {
   "cell_type": "markdown",
   "metadata": {},
   "source": [
    "Check if some zero values in some numeric columns like revenue. "
   ]
  },
  {
   "cell_type": "code",
   "execution_count": 48,
   "metadata": {},
   "outputs": [
    {
     "data": {
      "text/plain": [
       "5952"
      ]
     },
     "execution_count": 48,
     "metadata": {},
     "output_type": "execute_result"
    }
   ],
   "source": [
    "(df['revenue'] == 0 ).sum()"
   ]
  },
  {
   "cell_type": "markdown",
   "metadata": {},
   "source": [
    "###### replace all zero values to null value and remove it"
   ]
  },
  {
   "cell_type": "code",
   "execution_count": 49,
   "metadata": {},
   "outputs": [],
   "source": [
    "df.replace(0,np.NaN,inplace=True)\n",
    "df.dropna(inplace=True)"
   ]
  },
  {
   "cell_type": "markdown",
   "metadata": {},
   "source": [
    "<a id='eda'></a>\n",
    "## Exploratory Data Analysis\n",
    "\n",
    "### Which genres are most popular from year to year?"
   ]
  },
  {
   "cell_type": "code",
   "execution_count": 50,
   "metadata": {},
   "outputs": [
    {
     "data": {
      "text/plain": [
       "0        Action|Adventure|Science Fiction|Thriller\n",
       "1        Action|Adventure|Science Fiction|Thriller\n",
       "2               Adventure|Science Fiction|Thriller\n",
       "3         Action|Adventure|Science Fiction|Fantasy\n",
       "4                            Action|Crime|Thriller\n",
       "                           ...                    \n",
       "10822                                        Drama\n",
       "10828                             Mystery|Thriller\n",
       "10829                               Action|Western\n",
       "10835           Action|Adventure|Drama|War|Romance\n",
       "10848                    Adventure|Science Fiction\n",
       "Name: genres, Length: 3853, dtype: object"
      ]
     },
     "execution_count": 50,
     "metadata": {},
     "output_type": "execute_result"
    }
   ],
   "source": [
    "df['genres']"
   ]
  },
  {
   "cell_type": "code",
   "execution_count": 51,
   "metadata": {},
   "outputs": [
    {
     "data": {
      "image/png": "[encoded data removed]",
      "text/plain": [
       "<Figure size 1080x1080 with 1 Axes>"
      ]
     },
     "metadata": {},
     "output_type": "display_data"
    }
   ],
   "source": [
    "split = df.genres.str.split('|', expand=True).stack().value_counts()\n",
    "split.plot(kind='pie',figsize=(15,15),label='Genre',autopct='%1.0f%%');\n",
    "plt.title('Genres from year to year');"
   ]
  },
  {
   "cell_type": "markdown",
   "metadata": {},
   "source": [
    "### What is the maximum movie revenue at all times?"
   ]
  },
  {
   "cell_type": "code",
   "execution_count": 52,
   "metadata": {},
   "outputs": [
    {
     "data": {
      "text/html": [
       "<div>\n",
       "<style scoped>\n",
       "    .dataframe tbody tr th:only-of-type {\n",
       "        vertical-align: middle;\n",
       "    }\n",
       "\n",
       "    .dataframe tbody tr th {\n",
       "        vertical-align: top;\n",
       "    }\n",
       "\n",
       "    .dataframe thead th {\n",
       "        text-align: right;\n",
       "    }\n",
       "</style>\n",
       "<table border=\"1\" class=\"dataframe\">\n",
       "  <thead>\n",
       "    <tr style=\"text-align: right;\">\n",
       "      <th></th>\n",
       "      <th>popularity</th>\n",
       "      <th>budget</th>\n",
       "      <th>revenue</th>\n",
       "      <th>original_title</th>\n",
       "      <th>director</th>\n",
       "      <th>runtime</th>\n",
       "      <th>genres</th>\n",
       "      <th>release_date</th>\n",
       "      <th>vote_count</th>\n",
       "      <th>vote_average</th>\n",
       "      <th>release_year</th>\n",
       "      <th>budget_adj</th>\n",
       "      <th>revenue_adj</th>\n",
       "    </tr>\n",
       "  </thead>\n",
       "  <tbody>\n",
       "    <tr>\n",
       "      <td>1386</td>\n",
       "      <td>9.432768</td>\n",
       "      <td>237000000.0</td>\n",
       "      <td>2.781506e+09</td>\n",
       "      <td>Avatar</td>\n",
       "      <td>James Cameron</td>\n",
       "      <td>162.0</td>\n",
       "      <td>Action|Adventure|Fantasy|Science Fiction</td>\n",
       "      <td>12/10/09</td>\n",
       "      <td>8458</td>\n",
       "      <td>7.1</td>\n",
       "      <td>2009</td>\n",
       "      <td>2.408869e+08</td>\n",
       "      <td>2.827124e+09</td>\n",
       "    </tr>\n",
       "  </tbody>\n",
       "</table>\n",
       "</div>"
      ],
      "text/plain": [
       "      popularity       budget       revenue original_title       director  \\\n",
       "1386    9.432768  237000000.0  2.781506e+09         Avatar  James Cameron   \n",
       "\n",
       "      runtime                                    genres release_date  \\\n",
       "1386    162.0  Action|Adventure|Fantasy|Science Fiction     12/10/09   \n",
       "\n",
       "      vote_count  vote_average  release_year    budget_adj   revenue_adj  \n",
       "1386        8458           7.1          2009  2.408869e+08  2.827124e+09  "
      ]
     },
     "execution_count": 52,
     "metadata": {},
     "output_type": "execute_result"
    }
   ],
   "source": [
    "df.loc[df['revenue'] == df['revenue'].max()]"
   ]
  },
  {
   "cell_type": "markdown",
   "metadata": {},
   "source": [
    "# What kinds of properties are associated with movies that have high revenues?"
   ]
  },
  {
   "cell_type": "markdown",
   "metadata": {},
   "source": [
    ">1. budget_adj is the best  189164428\n",
    ">2. Best Director is Peter Jackson , Joss Whedon , James Cameron , Christopher Nolan , ...           \n",
    ">3. Best runtime is 130 to 143 \n",
    ">4. Best genres Action|Adventure|Fantasy|Science Fiction"
   ]
  },
  {
   "cell_type": "code",
   "execution_count": 53,
   "metadata": {
    "scrolled": true
   },
   "outputs": [
    {
     "data": {
      "text/html": [
       "<div>\n",
       "<style scoped>\n",
       "    .dataframe tbody tr th:only-of-type {\n",
       "        vertical-align: middle;\n",
       "    }\n",
       "\n",
       "    .dataframe tbody tr th {\n",
       "        vertical-align: top;\n",
       "    }\n",
       "\n",
       "    .dataframe thead th {\n",
       "        text-align: right;\n",
       "    }\n",
       "</style>\n",
       "<table border=\"1\" class=\"dataframe\">\n",
       "  <thead>\n",
       "    <tr style=\"text-align: right;\">\n",
       "      <th></th>\n",
       "      <th>popularity</th>\n",
       "      <th>budget</th>\n",
       "      <th>revenue</th>\n",
       "      <th>original_title</th>\n",
       "      <th>director</th>\n",
       "      <th>runtime</th>\n",
       "      <th>genres</th>\n",
       "      <th>release_date</th>\n",
       "      <th>vote_count</th>\n",
       "      <th>vote_average</th>\n",
       "      <th>release_year</th>\n",
       "      <th>budget_adj</th>\n",
       "      <th>revenue_adj</th>\n",
       "    </tr>\n",
       "  </thead>\n",
       "  <tbody>\n",
       "    <tr>\n",
       "      <td>0</td>\n",
       "      <td>32.985763</td>\n",
       "      <td>150000000.0</td>\n",
       "      <td>1.513529e+09</td>\n",
       "      <td>Jurassic World</td>\n",
       "      <td>Colin Trevorrow</td>\n",
       "      <td>124.0</td>\n",
       "      <td>Action|Adventure|Science Fiction|Thriller</td>\n",
       "      <td>6/9/15</td>\n",
       "      <td>5562</td>\n",
       "      <td>6.5</td>\n",
       "      <td>2015</td>\n",
       "      <td>1.379999e+08</td>\n",
       "      <td>1.392446e+09</td>\n",
       "    </tr>\n",
       "    <tr>\n",
       "      <td>3</td>\n",
       "      <td>11.173104</td>\n",
       "      <td>200000000.0</td>\n",
       "      <td>2.068178e+09</td>\n",
       "      <td>Star Wars: The Force Awakens</td>\n",
       "      <td>J.J. Abrams</td>\n",
       "      <td>136.0</td>\n",
       "      <td>Action|Adventure|Science Fiction|Fantasy</td>\n",
       "      <td>12/15/15</td>\n",
       "      <td>5292</td>\n",
       "      <td>7.5</td>\n",
       "      <td>2015</td>\n",
       "      <td>1.839999e+08</td>\n",
       "      <td>1.902723e+09</td>\n",
       "    </tr>\n",
       "    <tr>\n",
       "      <td>4</td>\n",
       "      <td>9.335014</td>\n",
       "      <td>190000000.0</td>\n",
       "      <td>1.506249e+09</td>\n",
       "      <td>Furious 7</td>\n",
       "      <td>James Wan</td>\n",
       "      <td>137.0</td>\n",
       "      <td>Action|Crime|Thriller</td>\n",
       "      <td>4/1/15</td>\n",
       "      <td>2947</td>\n",
       "      <td>7.3</td>\n",
       "      <td>2015</td>\n",
       "      <td>1.747999e+08</td>\n",
       "      <td>1.385749e+09</td>\n",
       "    </tr>\n",
       "    <tr>\n",
       "      <td>8</td>\n",
       "      <td>7.404165</td>\n",
       "      <td>74000000.0</td>\n",
       "      <td>1.156731e+09</td>\n",
       "      <td>Minions</td>\n",
       "      <td>Kyle Balda|Pierre Coffin</td>\n",
       "      <td>91.0</td>\n",
       "      <td>Family|Animation|Adventure|Comedy</td>\n",
       "      <td>6/17/15</td>\n",
       "      <td>2893</td>\n",
       "      <td>6.5</td>\n",
       "      <td>2015</td>\n",
       "      <td>6.807997e+07</td>\n",
       "      <td>1.064192e+09</td>\n",
       "    </tr>\n",
       "    <tr>\n",
       "      <td>14</td>\n",
       "      <td>5.944927</td>\n",
       "      <td>280000000.0</td>\n",
       "      <td>1.405036e+09</td>\n",
       "      <td>Avengers: Age of Ultron</td>\n",
       "      <td>Joss Whedon</td>\n",
       "      <td>141.0</td>\n",
       "      <td>Action|Adventure|Science Fiction</td>\n",
       "      <td>4/22/15</td>\n",
       "      <td>4304</td>\n",
       "      <td>7.4</td>\n",
       "      <td>2015</td>\n",
       "      <td>2.575999e+08</td>\n",
       "      <td>1.292632e+09</td>\n",
       "    </tr>\n",
       "    <tr>\n",
       "      <td>1386</td>\n",
       "      <td>9.432768</td>\n",
       "      <td>237000000.0</td>\n",
       "      <td>2.781506e+09</td>\n",
       "      <td>Avatar</td>\n",
       "      <td>James Cameron</td>\n",
       "      <td>162.0</td>\n",
       "      <td>Action|Adventure|Fantasy|Science Fiction</td>\n",
       "      <td>12/10/09</td>\n",
       "      <td>8458</td>\n",
       "      <td>7.1</td>\n",
       "      <td>2009</td>\n",
       "      <td>2.408869e+08</td>\n",
       "      <td>2.827124e+09</td>\n",
       "    </tr>\n",
       "    <tr>\n",
       "      <td>1921</td>\n",
       "      <td>5.572950</td>\n",
       "      <td>200000000.0</td>\n",
       "      <td>1.025467e+09</td>\n",
       "      <td>Alice in Wonderland</td>\n",
       "      <td>Tim Burton</td>\n",
       "      <td>108.0</td>\n",
       "      <td>Family|Fantasy|Adventure</td>\n",
       "      <td>3/3/10</td>\n",
       "      <td>2853</td>\n",
       "      <td>6.3</td>\n",
       "      <td>2010</td>\n",
       "      <td>2.000000e+08</td>\n",
       "      <td>1.025467e+09</td>\n",
       "    </tr>\n",
       "    <tr>\n",
       "      <td>1930</td>\n",
       "      <td>2.711136</td>\n",
       "      <td>200000000.0</td>\n",
       "      <td>1.063172e+09</td>\n",
       "      <td>Toy Story 3</td>\n",
       "      <td>Lee Unkrich</td>\n",
       "      <td>103.0</td>\n",
       "      <td>Animation|Family|Comedy</td>\n",
       "      <td>6/16/10</td>\n",
       "      <td>2924</td>\n",
       "      <td>7.5</td>\n",
       "      <td>2010</td>\n",
       "      <td>2.000000e+08</td>\n",
       "      <td>1.063172e+09</td>\n",
       "    </tr>\n",
       "    <tr>\n",
       "      <td>2875</td>\n",
       "      <td>8.466668</td>\n",
       "      <td>185000000.0</td>\n",
       "      <td>1.001922e+09</td>\n",
       "      <td>The Dark Knight</td>\n",
       "      <td>Christopher Nolan</td>\n",
       "      <td>152.0</td>\n",
       "      <td>Drama|Action|Crime|Thriller</td>\n",
       "      <td>7/16/08</td>\n",
       "      <td>8432</td>\n",
       "      <td>8.1</td>\n",
       "      <td>2008</td>\n",
       "      <td>1.873655e+08</td>\n",
       "      <td>1.014733e+09</td>\n",
       "    </tr>\n",
       "    <tr>\n",
       "      <td>3374</td>\n",
       "      <td>5.711315</td>\n",
       "      <td>125000000.0</td>\n",
       "      <td>1.327818e+09</td>\n",
       "      <td>Harry Potter and the Deathly Hallows: Part 2</td>\n",
       "      <td>David Yates</td>\n",
       "      <td>130.0</td>\n",
       "      <td>Adventure|Family|Fantasy</td>\n",
       "      <td>7/7/11</td>\n",
       "      <td>3750</td>\n",
       "      <td>7.7</td>\n",
       "      <td>2011</td>\n",
       "      <td>1.211748e+08</td>\n",
       "      <td>1.287184e+09</td>\n",
       "    </tr>\n",
       "    <tr>\n",
       "      <td>3375</td>\n",
       "      <td>4.955130</td>\n",
       "      <td>380000000.0</td>\n",
       "      <td>1.021683e+09</td>\n",
       "      <td>Pirates of the Caribbean: On Stranger Tides</td>\n",
       "      <td>Rob Marshall</td>\n",
       "      <td>136.0</td>\n",
       "      <td>Adventure|Action|Fantasy</td>\n",
       "      <td>5/11/11</td>\n",
       "      <td>3180</td>\n",
       "      <td>6.3</td>\n",
       "      <td>2011</td>\n",
       "      <td>3.683713e+08</td>\n",
       "      <td>9.904175e+08</td>\n",
       "    </tr>\n",
       "    <tr>\n",
       "      <td>3522</td>\n",
       "      <td>0.760503</td>\n",
       "      <td>195000000.0</td>\n",
       "      <td>1.123747e+09</td>\n",
       "      <td>Transformers: Dark of the Moon</td>\n",
       "      <td>Michael Bay</td>\n",
       "      <td>154.0</td>\n",
       "      <td>Action|Science Fiction|Adventure</td>\n",
       "      <td>6/28/11</td>\n",
       "      <td>2456</td>\n",
       "      <td>6.1</td>\n",
       "      <td>2011</td>\n",
       "      <td>1.890326e+08</td>\n",
       "      <td>1.089358e+09</td>\n",
       "    </tr>\n",
       "    <tr>\n",
       "      <td>4361</td>\n",
       "      <td>7.637767</td>\n",
       "      <td>220000000.0</td>\n",
       "      <td>1.519558e+09</td>\n",
       "      <td>The Avengers</td>\n",
       "      <td>Joss Whedon</td>\n",
       "      <td>143.0</td>\n",
       "      <td>Science Fiction|Action|Adventure</td>\n",
       "      <td>4/25/12</td>\n",
       "      <td>8903</td>\n",
       "      <td>7.3</td>\n",
       "      <td>2012</td>\n",
       "      <td>2.089437e+08</td>\n",
       "      <td>1.443191e+09</td>\n",
       "    </tr>\n",
       "    <tr>\n",
       "      <td>4363</td>\n",
       "      <td>6.591277</td>\n",
       "      <td>250000000.0</td>\n",
       "      <td>1.081041e+09</td>\n",
       "      <td>The Dark Knight Rises</td>\n",
       "      <td>Christopher Nolan</td>\n",
       "      <td>165.0</td>\n",
       "      <td>Action|Crime|Drama|Thriller</td>\n",
       "      <td>7/16/12</td>\n",
       "      <td>6723</td>\n",
       "      <td>7.5</td>\n",
       "      <td>2012</td>\n",
       "      <td>2.374361e+08</td>\n",
       "      <td>1.026713e+09</td>\n",
       "    </tr>\n",
       "    <tr>\n",
       "      <td>4365</td>\n",
       "      <td>5.603587</td>\n",
       "      <td>200000000.0</td>\n",
       "      <td>1.108561e+09</td>\n",
       "      <td>Skyfall</td>\n",
       "      <td>Sam Mendes</td>\n",
       "      <td>143.0</td>\n",
       "      <td>Action|Adventure|Thriller</td>\n",
       "      <td>10/25/12</td>\n",
       "      <td>6137</td>\n",
       "      <td>6.8</td>\n",
       "      <td>2012</td>\n",
       "      <td>1.899489e+08</td>\n",
       "      <td>1.052849e+09</td>\n",
       "    </tr>\n",
       "    <tr>\n",
       "      <td>4367</td>\n",
       "      <td>4.218933</td>\n",
       "      <td>250000000.0</td>\n",
       "      <td>1.017004e+09</td>\n",
       "      <td>The Hobbit: An Unexpected Journey</td>\n",
       "      <td>Peter Jackson</td>\n",
       "      <td>169.0</td>\n",
       "      <td>Adventure|Fantasy|Action</td>\n",
       "      <td>11/26/12</td>\n",
       "      <td>6417</td>\n",
       "      <td>6.9</td>\n",
       "      <td>2012</td>\n",
       "      <td>2.374361e+08</td>\n",
       "      <td>9.658933e+08</td>\n",
       "    </tr>\n",
       "    <tr>\n",
       "      <td>4949</td>\n",
       "      <td>7.122455</td>\n",
       "      <td>94000000.0</td>\n",
       "      <td>1.118889e+09</td>\n",
       "      <td>The Lord of the Rings: The Return of the King</td>\n",
       "      <td>Peter Jackson</td>\n",
       "      <td>201.0</td>\n",
       "      <td>Adventure|Fantasy|Action</td>\n",
       "      <td>12/1/03</td>\n",
       "      <td>5636</td>\n",
       "      <td>7.9</td>\n",
       "      <td>2003</td>\n",
       "      <td>1.114231e+08</td>\n",
       "      <td>1.326278e+09</td>\n",
       "    </tr>\n",
       "    <tr>\n",
       "      <td>5231</td>\n",
       "      <td>4.355219</td>\n",
       "      <td>200000000.0</td>\n",
       "      <td>1.845034e+09</td>\n",
       "      <td>Titanic</td>\n",
       "      <td>James Cameron</td>\n",
       "      <td>194.0</td>\n",
       "      <td>Drama|Romance|Thriller</td>\n",
       "      <td>11/18/97</td>\n",
       "      <td>4654</td>\n",
       "      <td>7.3</td>\n",
       "      <td>1997</td>\n",
       "      <td>2.716921e+08</td>\n",
       "      <td>2.506406e+09</td>\n",
       "    </tr>\n",
       "    <tr>\n",
       "      <td>5422</td>\n",
       "      <td>6.112766</td>\n",
       "      <td>150000000.0</td>\n",
       "      <td>1.274219e+09</td>\n",
       "      <td>Frozen</td>\n",
       "      <td>Chris Buck|Jennifer Lee</td>\n",
       "      <td>102.0</td>\n",
       "      <td>Animation|Adventure|Family</td>\n",
       "      <td>11/27/13</td>\n",
       "      <td>3369</td>\n",
       "      <td>7.5</td>\n",
       "      <td>2013</td>\n",
       "      <td>1.404050e+08</td>\n",
       "      <td>1.192711e+09</td>\n",
       "    </tr>\n",
       "    <tr>\n",
       "      <td>5425</td>\n",
       "      <td>4.946136</td>\n",
       "      <td>200000000.0</td>\n",
       "      <td>1.215440e+09</td>\n",
       "      <td>Iron Man 3</td>\n",
       "      <td>Shane Black</td>\n",
       "      <td>130.0</td>\n",
       "      <td>Action|Adventure|Science Fiction</td>\n",
       "      <td>4/18/13</td>\n",
       "      <td>6882</td>\n",
       "      <td>6.9</td>\n",
       "      <td>2013</td>\n",
       "      <td>1.872067e+08</td>\n",
       "      <td>1.137692e+09</td>\n",
       "    </tr>\n",
       "    <tr>\n",
       "      <td>6555</td>\n",
       "      <td>4.205992</td>\n",
       "      <td>200000000.0</td>\n",
       "      <td>1.065660e+09</td>\n",
       "      <td>Pirates of the Caribbean: Dead Man's Chest</td>\n",
       "      <td>Gore Verbinski</td>\n",
       "      <td>151.0</td>\n",
       "      <td>Adventure|Fantasy|Action</td>\n",
       "      <td>6/20/06</td>\n",
       "      <td>3181</td>\n",
       "      <td>6.8</td>\n",
       "      <td>2006</td>\n",
       "      <td>2.163338e+08</td>\n",
       "      <td>1.152691e+09</td>\n",
       "    </tr>\n",
       "    <tr>\n",
       "      <td>8094</td>\n",
       "      <td>1.136610</td>\n",
       "      <td>22000000.0</td>\n",
       "      <td>1.106280e+09</td>\n",
       "      <td>The Net</td>\n",
       "      <td>Irwin Winkler</td>\n",
       "      <td>114.0</td>\n",
       "      <td>Crime|Drama|Mystery|Thriller|Action</td>\n",
       "      <td>7/28/95</td>\n",
       "      <td>201</td>\n",
       "      <td>5.6</td>\n",
       "      <td>1995</td>\n",
       "      <td>3.148127e+07</td>\n",
       "      <td>1.583050e+09</td>\n",
       "    </tr>\n",
       "  </tbody>\n",
       "</table>\n",
       "</div>"
      ],
      "text/plain": [
       "      popularity       budget       revenue  \\\n",
       "0      32.985763  150000000.0  1.513529e+09   \n",
       "3      11.173104  200000000.0  2.068178e+09   \n",
       "4       9.335014  190000000.0  1.506249e+09   \n",
       "8       7.404165   74000000.0  1.156731e+09   \n",
       "14      5.944927  280000000.0  1.405036e+09   \n",
       "1386    9.432768  237000000.0  2.781506e+09   \n",
       "1921    5.572950  200000000.0  1.025467e+09   \n",
       "1930    2.711136  200000000.0  1.063172e+09   \n",
       "2875    8.466668  185000000.0  1.001922e+09   \n",
       "3374    5.711315  125000000.0  1.327818e+09   \n",
       "3375    4.955130  380000000.0  1.021683e+09   \n",
       "3522    0.760503  195000000.0  1.123747e+09   \n",
       "4361    7.637767  220000000.0  1.519558e+09   \n",
       "4363    6.591277  250000000.0  1.081041e+09   \n",
       "4365    5.603587  200000000.0  1.108561e+09   \n",
       "4367    4.218933  250000000.0  1.017004e+09   \n",
       "4949    7.122455   94000000.0  1.118889e+09   \n",
       "5231    4.355219  200000000.0  1.845034e+09   \n",
       "5422    6.112766  150000000.0  1.274219e+09   \n",
       "5425    4.946136  200000000.0  1.215440e+09   \n",
       "6555    4.205992  200000000.0  1.065660e+09   \n",
       "8094    1.136610   22000000.0  1.106280e+09   \n",
       "\n",
       "                                     original_title                  director  \\\n",
       "0                                    Jurassic World           Colin Trevorrow   \n",
       "3                      Star Wars: The Force Awakens               J.J. Abrams   \n",
       "4                                         Furious 7                 James Wan   \n",
       "8                                           Minions  Kyle Balda|Pierre Coffin   \n",
       "14                          Avengers: Age of Ultron               Joss Whedon   \n",
       "1386                                         Avatar             James Cameron   \n",
       "1921                            Alice in Wonderland                Tim Burton   \n",
       "1930                                    Toy Story 3               Lee Unkrich   \n",
       "2875                                The Dark Knight         Christopher Nolan   \n",
       "3374   Harry Potter and the Deathly Hallows: Part 2               David Yates   \n",
       "3375    Pirates of the Caribbean: On Stranger Tides              Rob Marshall   \n",
       "3522                 Transformers: Dark of the Moon               Michael Bay   \n",
       "4361                                   The Avengers               Joss Whedon   \n",
       "4363                          The Dark Knight Rises         Christopher Nolan   \n",
       "4365                                        Skyfall                Sam Mendes   \n",
       "4367              The Hobbit: An Unexpected Journey             Peter Jackson   \n",
       "4949  The Lord of the Rings: The Return of the King             Peter Jackson   \n",
       "5231                                        Titanic             James Cameron   \n",
       "5422                                         Frozen   Chris Buck|Jennifer Lee   \n",
       "5425                                     Iron Man 3               Shane Black   \n",
       "6555     Pirates of the Caribbean: Dead Man's Chest            Gore Verbinski   \n",
       "8094                                        The Net             Irwin Winkler   \n",
       "\n",
       "      runtime                                     genres release_date  \\\n",
       "0       124.0  Action|Adventure|Science Fiction|Thriller       6/9/15   \n",
       "3       136.0   Action|Adventure|Science Fiction|Fantasy     12/15/15   \n",
       "4       137.0                      Action|Crime|Thriller       4/1/15   \n",
       "8        91.0          Family|Animation|Adventure|Comedy      6/17/15   \n",
       "14      141.0           Action|Adventure|Science Fiction      4/22/15   \n",
       "1386    162.0   Action|Adventure|Fantasy|Science Fiction     12/10/09   \n",
       "1921    108.0                   Family|Fantasy|Adventure       3/3/10   \n",
       "1930    103.0                    Animation|Family|Comedy      6/16/10   \n",
       "2875    152.0                Drama|Action|Crime|Thriller      7/16/08   \n",
       "3374    130.0                   Adventure|Family|Fantasy       7/7/11   \n",
       "3375    136.0                   Adventure|Action|Fantasy      5/11/11   \n",
       "3522    154.0           Action|Science Fiction|Adventure      6/28/11   \n",
       "4361    143.0           Science Fiction|Action|Adventure      4/25/12   \n",
       "4363    165.0                Action|Crime|Drama|Thriller      7/16/12   \n",
       "4365    143.0                  Action|Adventure|Thriller     10/25/12   \n",
       "4367    169.0                   Adventure|Fantasy|Action     11/26/12   \n",
       "4949    201.0                   Adventure|Fantasy|Action      12/1/03   \n",
       "5231    194.0                     Drama|Romance|Thriller     11/18/97   \n",
       "5422    102.0                 Animation|Adventure|Family     11/27/13   \n",
       "5425    130.0           Action|Adventure|Science Fiction      4/18/13   \n",
       "6555    151.0                   Adventure|Fantasy|Action      6/20/06   \n",
       "8094    114.0        Crime|Drama|Mystery|Thriller|Action      7/28/95   \n",
       "\n",
       "      vote_count  vote_average  release_year    budget_adj   revenue_adj  \n",
       "0           5562           6.5          2015  1.379999e+08  1.392446e+09  \n",
       "3           5292           7.5          2015  1.839999e+08  1.902723e+09  \n",
       "4           2947           7.3          2015  1.747999e+08  1.385749e+09  \n",
       "8           2893           6.5          2015  6.807997e+07  1.064192e+09  \n",
       "14          4304           7.4          2015  2.575999e+08  1.292632e+09  \n",
       "1386        8458           7.1          2009  2.408869e+08  2.827124e+09  \n",
       "1921        2853           6.3          2010  2.000000e+08  1.025467e+09  \n",
       "1930        2924           7.5          2010  2.000000e+08  1.063172e+09  \n",
       "2875        8432           8.1          2008  1.873655e+08  1.014733e+09  \n",
       "3374        3750           7.7          2011  1.211748e+08  1.287184e+09  \n",
       "3375        3180           6.3          2011  3.683713e+08  9.904175e+08  \n",
       "3522        2456           6.1          2011  1.890326e+08  1.089358e+09  \n",
       "4361        8903           7.3          2012  2.089437e+08  1.443191e+09  \n",
       "4363        6723           7.5          2012  2.374361e+08  1.026713e+09  \n",
       "4365        6137           6.8          2012  1.899489e+08  1.052849e+09  \n",
       "4367        6417           6.9          2012  2.374361e+08  9.658933e+08  \n",
       "4949        5636           7.9          2003  1.114231e+08  1.326278e+09  \n",
       "5231        4654           7.3          1997  2.716921e+08  2.506406e+09  \n",
       "5422        3369           7.5          2013  1.404050e+08  1.192711e+09  \n",
       "5425        6882           6.9          2013  1.872067e+08  1.137692e+09  \n",
       "6555        3181           6.8          2006  2.163338e+08  1.152691e+09  \n",
       "8094         201           5.6          1995  3.148127e+07  1.583050e+09  "
      ]
     },
     "execution_count": 53,
     "metadata": {},
     "output_type": "execute_result"
    }
   ],
   "source": [
    "best_revenues = df[df['revenue'] > 1000000000]\n",
    "best_revenues"
   ]
  },
  {
   "cell_type": "markdown",
   "metadata": {},
   "source": [
    "#### Best budget_adj with high revenues"
   ]
  },
  {
   "cell_type": "code",
   "execution_count": 54,
   "metadata": {},
   "outputs": [
    {
     "data": {
      "text/plain": [
       "2.000000e+08    2\n",
       "2.374361e+08    2\n",
       "6.807997e+07    1\n",
       "1.873655e+08    1\n",
       "3.683713e+08    1\n",
       "1.839999e+08    1\n",
       "1.379999e+08    1\n",
       "1.890326e+08    1\n",
       "1.114231e+08    1\n",
       "1.899489e+08    1\n",
       "1.211748e+08    1\n",
       "2.089437e+08    1\n",
       "2.716921e+08    1\n",
       "3.148127e+07    1\n",
       "2.408869e+08    1\n",
       "2.163338e+08    1\n",
       "1.872067e+08    1\n",
       "1.404050e+08    1\n",
       "1.747999e+08    1\n",
       "2.575999e+08    1\n",
       "Name: budget_adj, dtype: int64"
      ]
     },
     "execution_count": 54,
     "metadata": {},
     "output_type": "execute_result"
    }
   ],
   "source": [
    "best_revenues.budget_adj.value_counts() "
   ]
  },
  {
   "cell_type": "code",
   "execution_count": 55,
   "metadata": {},
   "outputs": [
    {
     "data": {
      "text/plain": [
       "189164428.45123404"
      ]
     },
     "execution_count": 55,
     "metadata": {},
     "output_type": "execute_result"
    }
   ],
   "source": [
    "best_revenues.budget_adj.mean() "
   ]
  },
  {
   "cell_type": "markdown",
   "metadata": {},
   "source": [
    "#### Best Director with high revenues"
   ]
  },
  {
   "cell_type": "code",
   "execution_count": 56,
   "metadata": {},
   "outputs": [
    {
     "data": {
      "text/plain": [
       "Peter Jackson               2\n",
       "Joss Whedon                 2\n",
       "James Cameron               2\n",
       "Christopher Nolan           2\n",
       "Tim Burton                  1\n",
       "Lee Unkrich                 1\n",
       "Chris Buck|Jennifer Lee     1\n",
       "Sam Mendes                  1\n",
       "Colin Trevorrow             1\n",
       "Rob Marshall                1\n",
       "Kyle Balda|Pierre Coffin    1\n",
       "J.J. Abrams                 1\n",
       "Michael Bay                 1\n",
       "Shane Black                 1\n",
       "Gore Verbinski              1\n",
       "David Yates                 1\n",
       "James Wan                   1\n",
       "Irwin Winkler               1\n",
       "Name: director, dtype: int64"
      ]
     },
     "execution_count": 56,
     "metadata": {},
     "output_type": "execute_result"
    }
   ],
   "source": [
    "best_revenues.director.value_counts() "
   ]
  },
  {
   "cell_type": "markdown",
   "metadata": {},
   "source": [
    "#### Best runtime with high revenues"
   ]
  },
  {
   "cell_type": "code",
   "execution_count": 57,
   "metadata": {},
   "outputs": [
    {
     "data": {
      "text/plain": [
       "130.0    2\n",
       "136.0    2\n",
       "143.0    2\n",
       "152.0    1\n",
       "137.0    1\n",
       "91.0     1\n",
       "141.0    1\n",
       "162.0    1\n",
       "108.0    1\n",
       "103.0    1\n",
       "114.0    1\n",
       "151.0    1\n",
       "154.0    1\n",
       "165.0    1\n",
       "169.0    1\n",
       "201.0    1\n",
       "194.0    1\n",
       "102.0    1\n",
       "124.0    1\n",
       "Name: runtime, dtype: int64"
      ]
     },
     "execution_count": 57,
     "metadata": {},
     "output_type": "execute_result"
    }
   ],
   "source": [
    "best_revenues.runtime.value_counts() "
   ]
  },
  {
   "cell_type": "code",
   "execution_count": null,
   "metadata": {},
   "outputs": [],
   "source": []
  },
  {
   "cell_type": "markdown",
   "metadata": {},
   "source": [
    "## Is the number of movies increasing every year?"
   ]
  },
  {
   "cell_type": "markdown",
   "metadata": {},
   "source": [
    "###### From 1960 to 1980, the number of films is no more than 25, and it is changed randomly, and from 1960 to 2003, the number of films does not exceed 125, and Then the number of films began to exceed 150 per year ."
   ]
  },
  {
   "cell_type": "code",
   "execution_count": 63,
   "metadata": {
    "scrolled": true
   },
   "outputs": [
    {
     "data": {
      "image/png": "[encoded data removed]",
      "text/plain": [
       "<Figure size 1368x576 with 1 Axes>"
      ]
     },
     "metadata": {
      "needs_background": "light"
     },
     "output_type": "display_data"
    }
   ],
   "source": [
    "number_of_movies = df[\"release_year\"].value_counts().sort_index()\n",
    "number_of_movies.plot(kind='bar',figsize=(19,8));\n",
    "plt.title('Distribution of  Number of Movies and Years')\n",
    "plt.xlabel('Years')\n",
    "plt.ylabel(' Number of Movies ')\n",
    "plt.legend();"
   ]
  },
  {
   "cell_type": "code",
   "execution_count": 66,
   "metadata": {},
   "outputs": [
    {
     "data": {
      "text/plain": [
       "<matplotlib.legend.Legend at 0x7f441c66f0d0>"
      ]
     },
     "execution_count": 66,
     "metadata": {},
     "output_type": "execute_result"
    },
    {
     "data": {
      "image/png": "[encoded data removed]",
      "text/plain": [
       "<Figure size 432x288 with 1 Axes>"
      ]
     },
     "metadata": {
      "needs_background": "light"
     },
     "output_type": "display_data"
    }
   ],
   "source": [
    "plt.hist([\n",
    "        df['budget_adj'],df['revenue_adj']\n",
    "        ], \n",
    "         stacked=False, color = ['r','b'],\n",
    "         bins = 30,label = ['Budget','Revenue'])\n",
    "###Labeling the graph : x-axis,y-axis and Title\n",
    "plt.xlabel('Amount in USD')\n",
    "plt.ylabel('Number of Movies')\n",
    "plt.title('Distribution of Budget,Revenue and Profit')\n",
    "### Adding legend \n",
    "plt.legend()\n",
    "\n"
   ]
  },
  {
   "cell_type": "markdown",
   "metadata": {},
   "source": [
    "<a id='conclusions'></a>\n",
    "## Conclusions\n",
    "### We have answered some questions about\n",
    "    1. the genres are most popular from year to year ( Drama , Comedy , Thriller , ...) \n",
    "    2. properties are associated with movies that have high revenues\n",
    "    3. number of movies increasing every year\n",
    "    "
   ]
  },
  {
   "cell_type": "code",
   "execution_count": null,
   "metadata": {},
   "outputs": [],
   "source": []
  },
  {
   "cell_type": "code",
   "execution_count": null,
   "metadata": {},
   "outputs": [],
   "source": []
  }
 ],
 "metadata": {
  "kernelspec": {
   "display_name": "Python 3",
   "language": "python",
   "name": "python3"
  },
  "language_info": {
   "codemirror_mode": {
    "name": "ipython",
    "version": 3
   },
   "file_extension": ".py",
   "mimetype": "text/x-python",
   "name": "python",
   "nbconvert_exporter": "python",
   "pygments_lexer": "ipython3",
   "version": "3.7.4"
  }
 },
 "nbformat": 4,
 "nbformat_minor": 2
}
